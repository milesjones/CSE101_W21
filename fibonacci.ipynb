{
 "cells": [
  {
   "cell_type": "markdown",
   "metadata": {},
   "source": [
    "# Introduction to Algorithms and Fibonacci "
   ]
  },
  {
   "cell_type": "markdown",
   "metadata": {},
   "source": [
    "This first Jupyter Notebook will serve as an introduction to algorithms, and will save Miles time from discussing it in class.  Hopefully this first notebook will be review for most of you, but it is a great problem to use as a refresher and introduction to the course and of what is to come.  First, let's clearly define the problem we want to solve.\n",
    "\n",
    "**Print the nth fibonacci number.**\n",
    "\n",
    "We can define the nth fibonacci number using the following recurrence relation:\n",
    "\n",
    "$$f_0 = 0,  f_1 = 1, ~~~~~ f_n = f_{n-1} + f_{n-2} ~~ \\text{for all }~~n\\geq 2$$\n",
    "\n",
    "Please note that the lecture slides may use a slightly altered definition, which starts at n = 1 instead of n = 2.  However, both definitions will lead to the same results for $n \\geq 2$, so there should be no issue! This recursive definition gives us a good idea to writing a solution.  We can simply use recursion."
   ]
  },
  {
   "cell_type": "code",
   "execution_count": null,
   "metadata": {},
   "outputs": [],
   "source": [
    "def nth_fibonacci(n):\n",
    "    if n == 0: return 0;\n",
    "    if n == 1: return 1;\n",
    "    return nth_fibonacci(n-1) + nth_fibonacci(n-2)"
   ]
  },
  {
   "cell_type": "markdown",
   "metadata": {},
   "source": [
    "Run the code for n = 10, 20, 30, and 35"
   ]
  },
  {
   "cell_type": "code",
   "execution_count": null,
   "metadata": {},
   "outputs": [],
   "source": [
    "nth_fibonacci(10)"
   ]
  },
  {
   "cell_type": "code",
   "execution_count": null,
   "metadata": {},
   "outputs": [],
   "source": [
    "nth_fibonacci(20)"
   ]
  },
  {
   "cell_type": "code",
   "execution_count": null,
   "metadata": {},
   "outputs": [],
   "source": [
    "nth_fibonacci(30)"
   ]
  },
  {
   "cell_type": "markdown",
   "metadata": {},
   "source": [
    "Now let's time the algorithm. Your computer may be faster or slower than mine so we will be interested in how the time *scales* as the input increases rather than the actual number of seconds elapsed."
   ]
  },
  {
   "cell_type": "code",
   "execution_count": null,
   "metadata": {},
   "outputs": [],
   "source": [
    "import time"
   ]
  },
  {
   "cell_type": "code",
   "execution_count": null,
   "metadata": {},
   "outputs": [],
   "source": [
    "def time_elapsed(n):\n",
    "    t0 = time.process_time()\n",
    "    print(nth_fibonacci(n))\n",
    "    t1 = time.process_time() - t0\n",
    "    print(\"Time elapsed (in seconds): \", t1)"
   ]
  },
  {
   "cell_type": "markdown",
   "metadata": {},
   "source": [
    "Measure the time it takes for n = 10, 20, 30. Note that if the process is too quick then it may just show 0.0 seconds."
   ]
  },
  {
   "cell_type": "code",
   "execution_count": null,
   "metadata": {},
   "outputs": [],
   "source": [
    "time_elapsed(10)"
   ]
  },
  {
   "cell_type": "code",
   "execution_count": null,
   "metadata": {},
   "outputs": [],
   "source": [
    "time_elapsed(20)"
   ]
  },
  {
   "cell_type": "code",
   "execution_count": null,
   "metadata": {},
   "outputs": [],
   "source": [
    "time_elapsed(30)"
   ]
  },
  {
   "cell_type": "markdown",
   "metadata": {},
   "source": [
    "If you want to get a better approximation, you can run the same process a few times then divide out by the number of times, essentially taking the average."
   ]
  },
  {
   "cell_type": "code",
   "execution_count": null,
   "metadata": {},
   "outputs": [],
   "source": [
    "def time_elapsed_average(n,m):\n",
    "    t0 = time.process_time()\n",
    "    for i in range(m):\n",
    "        x =nth_fibonacci(n)\n",
    "    print(x)\n",
    "    t1 = (time.process_time() - t0)/m\n",
    "    print(\"Time elapsed (in seconds): \", t1)"
   ]
  },
  {
   "cell_type": "markdown",
   "metadata": {},
   "source": [
    "Try different values of m until you get a non-zero answer for when n=10"
   ]
  },
  {
   "cell_type": "code",
   "execution_count": null,
   "metadata": {},
   "outputs": [],
   "source": [
    "time_elapsed_average(10,10)"
   ]
  },
  {
   "cell_type": "code",
   "execution_count": null,
   "metadata": {},
   "outputs": [],
   "source": [
    "time_elapsed_average(20,10)"
   ]
  },
  {
   "cell_type": "code",
   "execution_count": null,
   "metadata": {},
   "outputs": [],
   "source": [
    "time_elapsed_average(30,10)"
   ]
  },
  {
   "cell_type": "markdown",
   "metadata": {},
   "source": [
    "Now let's plot some results to see how the time scales as input increases. Let's pick a range of values for $n$ (say, 30 to 40) We will time each one and plot the points on a graph. (It may take a few minutes)"
   ]
  },
  {
   "cell_type": "code",
   "execution_count": null,
   "metadata": {},
   "outputs": [],
   "source": [
    "import matplotlib.pyplot as plt"
   ]
  },
  {
   "cell_type": "code",
   "execution_count": null,
   "metadata": {},
   "outputs": [],
   "source": [
    "x_values = []\n",
    "y_values = []  #this initializes two arrays that we will use to store the points that we want to plot.\n",
    "for i in range(30,41): #if you want to iterate from 30 to 40 inclusive, you must include 41\n",
    "    x_values = x_values + [i] # this appends i to the end of the x_values array\n",
    "    t0 = time.process_time()\n",
    "    nth_fibonacci(i)\n",
    "    t1 = time.process_time() - t0\n",
    "    y_values = y_values + [t1] #this appends the amount of time to the end of the y_values array"
   ]
  },
  {
   "cell_type": "code",
   "execution_count": null,
   "metadata": {},
   "outputs": [],
   "source": [
    "plt.plot(x_values,y_values)\n",
    "plt.xlabel('size of input')\n",
    "plt.ylabel(\"time taken\")\n",
    "plt.title(\"Fibonacci algorithm time analysis\")\n",
    "plt.show()"
   ]
  },
  {
   "cell_type": "markdown",
   "metadata": {},
   "source": [
    "Notice how the time it took to run the code seemed to take exponentially longer as we increased n. If you want to read more about the time complexity, you can view it here https://www.geeksforgeeks.org/time-complexity-recursive-fibonacci-program/\n",
    "\n",
    "From the graph above, there is good evidence that the time taken by the function ```nth_fibonacci``` scales exponentially as input increases. To get a better idea about the base of the exponential, we can plot the same points on a linear-log scale meaning that you take the natural log of all y values and plot them against the original x values.:"
   ]
  },
  {
   "cell_type": "code",
   "execution_count": null,
   "metadata": {},
   "outputs": [],
   "source": [
    "import numpy as np"
   ]
  },
  {
   "cell_type": "code",
   "execution_count": null,
   "metadata": {},
   "outputs": [],
   "source": [
    "log_y_values = [np.log(y) for y in y_values]  #this takes the natural log of each value in y_values\n",
    "plt.plot(x_values,log_y_values)\n",
    "plt.xlabel('size of input')\n",
    "plt.ylabel(\"time taken (log)\")\n",
    "plt.title(\"Fibonacci algorithm time analysis (linear-log)\")\n",
    "plt.show()"
   ]
  },
  {
   "cell_type": "markdown",
   "metadata": {},
   "source": [
    "Notice now that this looks like a straight line. It is always the case that if you plot an exponential function on a linear-log graph, then the result will be a straight line. Furthermore, if $m$ is the slope of the line. Then $e^m$ will be the base of the exponential. What seems to be the slope of the line in your graph? What does this mean about the base of the exponential of the original graph? Can you find any explanation for this particular number?"
   ]
  },
  {
   "cell_type": "markdown",
   "metadata": {},
   "source": [
    "## **Exercise 1** \n",
    "estimate the slope and enter it into the corresponding gradescope question\n",
    "\n",
    "## **Exercise 2** \n",
    "using the slope, estimate the base of the exponential of the original plot and enter it into the corresponding gradescope question."
   ]
  },
  {
   "cell_type": "markdown",
   "metadata": {},
   "source": [
    "You've probably already seen an algorithm for the fibonacci problem that scales linearly.  Before we consider it, let's first look at a recursive tree for our algorithm with n = 5, which is taken from our lecture slides."
   ]
  },
  {
   "attachments": {
    "fib.png": {
     "image/png": "[encoded data removed]"
    }
   },
   "cell_type": "markdown",
   "metadata": {},
   "source": [
    "![fib.png](attachment:fib.png)"
   ]
  },
  {
   "cell_type": "markdown",
   "metadata": {},
   "source": [
    "Do you notice anything inefficient in our recursive algorithm based| on the drawing? Take some time to decide for yourself, and then move on."
   ]
  },
  {
   "cell_type": "markdown",
   "metadata": {},
   "source": [
    "# Algorithm 2\n",
    "Hopefully you noticed that we are repeating unneccessary calls in our recursive tree.  For example, $f_1$ was recursively called 5 times!\n",
    "\n",
    "Now, if we had a way to store this information each time, then we wouldn't need to continually recalculate, which would in turn produce a much faster algorithm here.  This concept will be talked about much more in class with dynamic programming!"
   ]
  },
  {
   "cell_type": "code",
   "execution_count": null,
   "metadata": {},
   "outputs": [],
   "source": [
    "import array\n",
    "\n",
    "def nth_fibonacci_2(n):\n",
    "    if (n == 0 or n == 1):\n",
    "        return n;\n",
    "    fib = [0] * (n+1)\n",
    "    fib[0] = 0\n",
    "    fib[1] = 1\n",
    "    for i in range(2,n+1):\n",
    "        fib[i] = float(fib[i-1]) + float(fib[i-2])\n",
    "    return fib[n];"
   ]
  },
  {
   "cell_type": "markdown",
   "metadata": {},
   "source": [
    "Play around with the plotting!"
   ]
  },
  {
   "cell_type": "code",
   "execution_count": null,
   "metadata": {},
   "outputs": [],
   "source": [
    "x_values_2 = []\n",
    "y_values_2 = []  #this initializes two arrays that we will use to store the points that we want to plot.\n",
    "for i in range(30,41): #this loops through all inputs between 30 and 40 inclusive.  \n",
    "    t0 = time.process_time()\n",
    "    nth_fibonacci_2(i)\n",
    "    t1 = time.process_time() - t0\n",
    "    x_values_2 = x_values_2 + [i] # this appends i to the end of the x_values array\n",
    "    y_values_2 = y_values_2 + [t1] #this appends the amount of time to the end of the y_values array"
   ]
  },
  {
   "cell_type": "code",
   "execution_count": null,
   "metadata": {},
   "outputs": [],
   "source": [
    "plt.plot(x_values_2,y_values_2)\n",
    "plt.xlabel('size of input')\n",
    "plt.ylabel(\"time taken\")\n",
    "plt.title(\"Fibonacci 2 algorithm time analysis\")\n",
    "plt.show()"
   ]
  },
  {
   "cell_type": "markdown",
   "metadata": {},
   "source": [
    "If your computer is fast enough, then you may have a horizontal line at 0. This means that your algorithm is too fast and the amount of time it took for the process to complete was not detectable. What we are going to do is run the algorithm for much bigger inputs so that it will take longer. (it may take a few minutes)"
   ]
  },
  {
   "cell_type": "code",
   "execution_count": null,
   "metadata": {},
   "outputs": [],
   "source": [
    "x_values_2 = []\n",
    "y_values_2 = []  #this initializes two arrays that we will use to store the points that we want to plot.\n",
    "for i in range(1,11): #this loops through all inputs between 1 and 10 inclusive. Then we will multiply i by 10000 to iterate through the inputs 10000, 20000, ...  \n",
    "    t0 = time.process_time()\n",
    "    for m in range(20):        #run the same process 20 times then divide by 20 to get the average time.\n",
    "        x =nth_fibonacci_2(i*10000)\n",
    "    t1 = (time.process_time() - t0)/20\n",
    "    \n",
    "    x_values_2 = x_values_2 + [i*10000] # this appends i to the end of the x_values array\n",
    "    y_values_2 = y_values_2 + [t1] #this appends the amount of time to the end of the y_values array"
   ]
  },
  {
   "cell_type": "code",
   "execution_count": null,
   "metadata": {},
   "outputs": [],
   "source": [
    "plt.plot(x_values_2,y_values_2)\n",
    "plt.xlabel('size of input')\n",
    "plt.ylabel(\"time taken\")\n",
    "plt.title(\"Fibonacci 2 algorithm time analysis\")\n",
    "plt.show()"
   ]
  },
  {
   "cell_type": "markdown",
   "metadata": {},
   "source": [
    "Your graph should look almost straight here. That is because the algorithm is a linear time algorithm! (See if you can analyze the runtime of nth_fibonacci_2 yourself.)"
   ]
  },
  {
   "cell_type": "markdown",
   "metadata": {},
   "source": [
    "# Algorithm 3\n",
    "This next algorithm is a bit more subtle, but ends up using less memory than Algorithm 2.  See if you notice anything we don't use in Algorithm 2. (Hint: Do we *really* need to store every previous fibonacci number, or can we get away with less?)\n",
    "\n",
    "When you have your answer, read through the algorithm and see if your idea was used!"
   ]
  },
  {
   "cell_type": "code",
   "execution_count": null,
   "metadata": {},
   "outputs": [],
   "source": [
    "def nth_fibonacci_3(n):\n",
    "    if n == 1 or n == 2:\n",
    "        return n-1;\n",
    "    prev2=0\n",
    "    prev1=1\n",
    "    for i in range(n-2):\n",
    "        tmp = float(prev1) + float(prev2)\n",
    "        prev2 = prev1\n",
    "        prev1 = tmp\n",
    "    return prev1;"
   ]
  },
  {
   "cell_type": "markdown",
   "metadata": {},
   "source": [
    "We now have a constant space complexity rather than a linear one by recognizing that we only need to store the previous 2 fibonacci numbers at each step!"
   ]
  },
  {
   "cell_type": "markdown",
   "metadata": {},
   "source": [
    "# Challenge\n",
    "\n",
    "Design an algorithm for the following problem: \n",
    "\n",
    "You are climbing a ladder.  At each rung i, you can either climb to the (i+1)th rung, stretch up to the (i+2)nd rung, or stretch further up to the (i+3)rd rung.  How many unique ways can you climb to the nth rung of the ladder?\n",
    "\n",
    "Notes: To test your code against our test cases, fill in the designated spots, and then run sequentially through the tests.  If you made a mistake, please rerun your function before you do the test cases again.\n",
    "\n",
    "*Hint: Try to modify Algorithm 3 to the needs of this question.  In order to pass the test cases, you should not use floats!*"
   ]
  },
  {
   "cell_type": "code",
   "execution_count": null,
   "metadata": {},
   "outputs": [],
   "source": [
    "def ladder_climb(n):\n",
    "\n",
    "    # Type Solution here!\n",
    "    "
   ]
  },
  {
   "cell_type": "code",
   "execution_count": null,
   "metadata": {},
   "outputs": [],
   "source": [
    "if ladder_climb(0)==1:\n",
    "    print(0, True)\n",
    "else:\n",
    "    print(0, False)\n",
    "if ladder_climb(1)==1:\n",
    "    print(1, True)\n",
    "else:\n",
    "    print(1, False)   \n",
    "if ladder_climb(2)==2:\n",
    "    print(2, True)\n",
    "else:\n",
    "    print(2, False) \n",
    "if ladder_climb(3)==4:\n",
    "    print(3, True)\n",
    "else:\n",
    "    print(3, False)\n",
    "if ladder_climb(4)==7:\n",
    "    print(4, True)\n",
    "else:\n",
    "    print(4, False) \n",
    "if ladder_climb(10)==274:\n",
    "    print(10, True)\n",
    "else:\n",
    "    print(10, False) \n",
    "if ladder_climb(33)==334745777:\n",
    "    print(33, True)\n",
    "else:\n",
    "    print(33, False)\n",
    "if ladder_climb(100)==180396380815100901214157639:\n",
    "    print(100, True)\n",
    "else:\n",
    "    print(100, False)"
   ]
  },
  {
   "cell_type": "markdown",
   "metadata": {},
   "source": [
    "## Exercise 3:\n",
    "enter the result of ladder_climb(200)."
   ]
  },
  {
   "cell_type": "markdown",
   "metadata": {},
   "source": []
  },
  {
   "cell_type": "code",
   "execution_count": null,
   "metadata": {},
   "outputs": [],
   "source": [
    "x_values = []\n",
    "y_values = []  #this initializes two arrays that we will use to store the points that we want to plot.\n",
    "for i in range(30,41): \n",
    "    x_values = x_values + [i] # this appends i to the end of the x_values array\n",
    "    y = ladder_climb(i)\n",
    "    y_values = y_values + [y] #this appends the amount of time to the end of the y_values array\n",
    "    \n"
   ]
  },
  {
   "cell_type": "code",
   "execution_count": null,
   "metadata": {},
   "outputs": [],
   "source": [
    "plt.plot(x_values,y_values)\n",
    "plt.xlabel('size of input')\n",
    "plt.ylabel(\"value of output\")\n",
    "plt.title(\"Ladder Climb output analysis\")\n",
    "plt.show()"
   ]
  },
  {
   "cell_type": "code",
   "execution_count": null,
   "metadata": {},
   "outputs": [],
   "source": [
    "log_y_values = [np.log(y) for y in y_values]  #this takes the natural log of each value in y_values\n",
    "plt.plot(x_values,log_y_values)\n",
    "plt.xlabel('size of input')\n",
    "plt.ylabel(\"value of output (log)\")\n",
    "plt.title(\"Ladderclimb output analysis (linear-log)\")\n",
    "plt.show()"
   ]
  },
  {
   "cell_type": "markdown",
   "metadata": {},
   "source": [
    "Can you use this linear-log plot to estimate the rate at which the outputs of ladderclimb grow? "
   ]
  },
  {
   "cell_type": "markdown",
   "metadata": {},
   "source": [
    "## Exercise 4:\n",
    "Estimate the rate that the *o ladder_climb(n) grows as a function of n."
   ]
  },
  {
   "cell_type": "code",
   "execution_count": null,
   "metadata": {},
   "outputs": [],
   "source": []
  }
 ],
 "metadata": {
  "kernelspec": {
   "display_name": "Python 3",
   "language": "python",
   "name": "python3"
  },
  "language_info": {
   "codemirror_mode": {
    "name": "ipython",
    "version": 3
   },
   "file_extension": ".py",
   "mimetype": "text/x-python",
   "name": "python",
   "nbconvert_exporter": "python",
   "pygments_lexer": "ipython3",
   "version": "3.7.4"
  }
 },
 "nbformat": 4,
 "nbformat_minor": 4
}
