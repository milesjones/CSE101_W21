{
 "cells": [
  {
   "cell_type": "markdown",
   "metadata": {
    "id": "ONI-OXV97cZ5"
   },
   "source": [
    "# DFS\n",
    "Depth-First search is a graph algorithm that uses a *stack* to keep track of which vertices have been visited. (Note that I am using the general term DFS for a broad description of a graph algorithm that can be implemented in a few ways. The book has a very specific definition of DFS.)\n",
    "\n",
    "## GraphSearch\n",
    "Graphsearch is a general graph algorithm that can be changed to have different outcomes based on the data structures used. When a stack is used, then graphsearch is DFS. When a queue is used, then graphsearch is BFS, etc..."
   ]
  },
  {
   "cell_type": "markdown",
   "metadata": {
    "id": "qxGFGuOh7cZ6"
   },
   "source": [
    "### Adjacency matrix version\n",
    "Below is an implementation for graphsearch using an adjacency matrix. It uses an array *Status* that has 'X','U', or 'F' to signify if each vertex is explored, unexplored or on the frontier. The algorithm returns the array *Status*. If a vertex is *reachable* from s then the entry of *Status* is 'X'. If it is unreachable, then the entry is 'U'. \n",
    "\n",
    "Remember that an adjacency matrix of an undirected graph is symmetric about the diagonal.\n",
    "\n",
    "(Note: this algorithm is slightly different than explore from class mainly due to the fact that it is not recursive.)"
   ]
  },
  {
   "cell_type": "code",
   "execution_count": null,
   "metadata": {
    "executionInfo": {
     "elapsed": 843,
     "status": "ok",
     "timestamp": 1603167749333,
     "user": {
      "displayName": "Eric Van-grinsven",
      "photoUrl": "",
      "userId": "14379538005791708188"
     },
     "user_tz": 420
    },
    "id": "PB12NdXG7cZ7"
   },
   "outputs": [],
   "source": [
    "def Graphsearch_AM(G,s):                   # G is an n by n adjacency matrix of a graph and s (starting vertex) is an integer from 0 to n-1\n",
    "    n = len(G)\n",
    "    Status = ['U']*n\n",
    "    Status[s] = ['F']                   # initialize the Status array\n",
    "    F = [s]                             # F is a stack with only the vertex s\n",
    "    while len(F)>0:\n",
    "        w = F[0]                        # set w to be the first element of F\n",
    "        F = F[1:]                       # remove the first element of F (pop)\n",
    "        for i in range(n):\n",
    "            if G[w][i] == 1:\n",
    "                if Status[i] == 'U':\n",
    "                    Status[i] = 'F'\n",
    "                    F = [i] + F        # add vertex i to the beginning of the stack F\n",
    "        Status [w] = 'X'\n",
    "    return Status\n",
    "        "
   ]
  },
  {
   "cell_type": "markdown",
   "metadata": {
    "id": "I3G6v2af7cZ-"
   },
   "source": [
    "Try it on the following graph starting at 0. (try it starting at other indices.)"
   ]
  },
  {
   "cell_type": "code",
   "execution_count": null,
   "metadata": {
    "executionInfo": {
     "elapsed": 841,
     "status": "ok",
     "timestamp": 1603167749335,
     "user": {
      "displayName": "Eric Van-grinsven",
      "photoUrl": "",
      "userId": "14379538005791708188"
     },
     "user_tz": 420
    },
    "id": "xzf75l867cZ_"
   },
   "outputs": [],
   "source": [
    "G = [\n",
    "    [0,0,0,0,1],\n",
    "    [1,0,0,1,0],\n",
    "    [0,1,0,1,0],\n",
    "    [0,1,1,0,0],\n",
    "    [1,0,0,0,0],\n",
    "    ]"
   ]
  },
  {
   "cell_type": "code",
   "execution_count": null,
   "metadata": {
    "colab": {
     "base_uri": "https://localhost:8080/",
     "height": 33
    },
    "executionInfo": {
     "elapsed": 795,
     "status": "ok",
     "timestamp": 1603167749335,
     "user": {
      "displayName": "Eric Van-grinsven",
      "photoUrl": "",
      "userId": "14379538005791708188"
     },
     "user_tz": 420
    },
    "id": "zlIpRtaQ7caC",
    "outputId": "814e8b7c-907f-48e2-c660-ec3d09877583"
   },
   "outputs": [],
   "source": [
    "Graphsearch_AM(G,0)"
   ]
  },
  {
   "cell_type": "markdown",
   "metadata": {
    "id": "ghYyBL6V7caG"
   },
   "source": [
    "Starting at 0, the only reachable vertices are vertex 0 and vertex 4. All other vertices are unreachable. So the algorithm should output ['X', 'U', 'U', 'U', 'X']"
   ]
  },
  {
   "cell_type": "markdown",
   "metadata": {
    "id": "oqHygByi7caG"
   },
   "source": [
    "##  Random Graph generator\n",
    "\n",
    "We will want to play around with this algorithm on randomly generated undirected graphs.\n",
    "\n",
    "There are a few different ways to define a random graph. First we will be looking at the Erdős–Rényi model which is a randomly generated *undirected graph.*\n",
    "\n",
    "A $G(n,p)$ graph is constructed by starting with $n$ vertices and for every pair of vertices, there is a $p$ probability that there is an edge between the vertices and $1-p$ probability of no edge.\n",
    "\n",
    "We will be encoding the graph using an adjacency matrix.\n",
    "\n",
    "This may be a nice tool to test algorithms with.\n",
    "\n",
    "### Generating $G(n,p)$\n",
    "\n",
    "\n",
    "This function generates a random graph given parameters ```n``` and ```p```.\n",
    "We need to import the random python package\n"
   ]
  },
  {
   "cell_type": "code",
   "execution_count": null,
   "metadata": {
    "executionInfo": {
     "elapsed": 792,
     "status": "ok",
     "timestamp": 1603167749336,
     "user": {
      "displayName": "Eric Van-grinsven",
      "photoUrl": "",
      "userId": "14379538005791708188"
     },
     "user_tz": 420
    },
    "id": "8tUeneKe7caH"
   },
   "outputs": [],
   "source": [
    "import random"
   ]
  },
  {
   "cell_type": "code",
   "execution_count": null,
   "metadata": {
    "executionInfo": {
     "elapsed": 791,
     "status": "ok",
     "timestamp": 1603167749337,
     "user": {
      "displayName": "Eric Van-grinsven",
      "photoUrl": "",
      "userId": "14379538005791708188"
     },
     "user_tz": 420
    },
    "id": "H0VFv4Iq7caJ"
   },
   "outputs": [],
   "source": [
    "def generate_G_n_p(n,p):\n",
    "    graph = [[0]*n for k in range(n)]     # this generates an n by n matrix of all 0's\n",
    "    for i in range(n-1):\n",
    "        for j in range(i+1,n):\n",
    "            r = random.random()\n",
    "            if r<p:                      # r is a random number chosen from the interval [0,1]\n",
    "                graph[i][j] = 1          # since the graph is undirected, you need to assign the same entry\n",
    "                graph[j][i] = 1          # for (i,j) and (j,i)\n",
    "    return graph"
   ]
  },
  {
   "cell_type": "markdown",
   "metadata": {
    "id": "E3l5suLK7caM"
   },
   "source": [
    "Let's generate an undirected graph with 10 vertices with a probability of 1/5 that each pair of vertices are connected"
   ]
  },
  {
   "cell_type": "code",
   "execution_count": null,
   "metadata": {
    "colab": {
     "base_uri": "https://localhost:8080/",
     "height": 180
    },
    "executionInfo": {
     "elapsed": 783,
     "status": "ok",
     "timestamp": 1603167749337,
     "user": {
      "displayName": "Eric Van-grinsven",
      "photoUrl": "",
      "userId": "14379538005791708188"
     },
     "user_tz": 420
    },
    "id": "xdthJ6D57caN",
    "outputId": "9832151e-abf4-4c73-f941-406fef34fce4"
   },
   "outputs": [],
   "source": [
    "RG = generate_G_n_p(10,1/5)\n",
    "RG"
   ]
  },
  {
   "cell_type": "markdown",
   "metadata": {
    "id": "_IiejVcR7caQ"
   },
   "source": [
    "## $\\color{red}{\\text{Exercise 1}}$\n",
    "In a Erdős–Rényi random *undirected* graph generated with $n=10$ and $p=1/5$, how many edges do you expect on average?\n",
    "\n"
   ]
  },
  {
   "cell_type": "markdown",
   "metadata": {
    "id": "-qtrwGWf7caR"
   },
   "source": [
    "Run Graphsearch_AM on the graph RG that you generated in the previous line of code:"
   ]
  },
  {
   "cell_type": "code",
   "execution_count": null,
   "metadata": {
    "colab": {
     "base_uri": "https://localhost:8080/",
     "height": 33
    },
    "executionInfo": {
     "elapsed": 774,
     "status": "ok",
     "timestamp": 1603167749338,
     "user": {
      "displayName": "Eric Van-grinsven",
      "photoUrl": "",
      "userId": "14379538005791708188"
     },
     "user_tz": 420
    },
    "id": "cMnLZ5dm7caR",
    "outputId": "f991541a-0405-4004-d9ce-6f335557ecc7"
   },
   "outputs": [],
   "source": [
    "Graphsearch_AM(RG,0)"
   ]
  },
  {
   "cell_type": "markdown",
   "metadata": {
    "id": "tU4pHOWy7caU"
   },
   "source": [
    "## $\\color{red}{\\text{Exercise 2}}$\n",
    "\n",
    "Use Graphsearch_AM on this graph and determine the number of connected components:\n",
    "\n",
    "```[[0, 0, 1, 0, 0, 0, 0, 0, 0, 0],\n",
    " [0, 0, 0, 0, 0, 0, 0, 0, 0, 0],\n",
    " [1, 0, 0, 0, 0, 1, 0, 0, 0, 0],\n",
    " [0, 0, 0, 0, 0, 0, 0, 1, 0, 0],\n",
    " [0, 0, 0, 0, 0, 0, 0, 0, 0, 0],\n",
    " [0, 0, 1, 0, 0, 0, 0, 0, 0, 1],\n",
    " [0, 0, 0, 0, 0, 0, 0, 0, 0, 1],\n",
    " [0, 0, 0, 1, 0, 0, 0, 0, 0, 0],\n",
    " [0, 0, 0, 0, 0, 0, 0, 0, 0, 0],\n",
    " [0, 0, 0, 0, 0, 1, 1, 0, 0, 0]]```\n",
    " \n"
   ]
  },
  {
   "cell_type": "markdown",
   "metadata": {
    "id": "9wuGKuJd7caU"
   },
   "source": [
    "\n"
   ]
  },
  {
   "cell_type": "markdown",
   "metadata": {
    "id": "x6oVLZp37caV"
   },
   "source": [
    "### DFS tree\n",
    "Often, in addition of knowing which vertices are reachable from a starting vertex, we would like to know how to get there. One way to do this is to keep an array that holds the parent of each vertex in the DFS tree. We will call this array *prev*\n",
    "\n",
    "Let's add it to the algorithm.\n",
    "\n",
    "This algorithm will output just the Prev array. If the Prev entry is an integer then you know you can reach that vertex. If the Prev entry is 'U' then you cannot reach that vertex."
   ]
  },
  {
   "cell_type": "code",
   "execution_count": null,
   "metadata": {
    "executionInfo": {
     "elapsed": 771,
     "status": "ok",
     "timestamp": 1603167749338,
     "user": {
      "displayName": "Eric Van-grinsven",
      "photoUrl": "",
      "userId": "14379538005791708188"
     },
     "user_tz": 420
    },
    "id": "oxOyN2eI7caV"
   },
   "outputs": [],
   "source": [
    "def Graphsearch_AM_prev(G,s):                   # G is an n by n adjacency matrix of a graph and s (starting vertex) is an integer from 0 to n-1\n",
    "    n = len(G)\n",
    "    Status = ['U']*n\n",
    "    Status[s] = ['F']                   # initialize the Status array\n",
    "    F = [s]                             # F is a stack with only the vertex s\n",
    "    Prev = ['U']*n                      # initialize the Prev array to all 'U' meaning unreachable\n",
    "    Prev[s] = s                         # set the parent of s to be s meaning that it is the root of the DFS tree\n",
    "    while len(F)>0:\n",
    "        w = F[0]                        # set w to be the first element of F\n",
    "        F = F[1:]                       # remove the first element of F (pop)\n",
    "        for i in range(n):\n",
    "            if G[w][i] == 1:\n",
    "                if Status[i] == 'U':\n",
    "                    Status[i] = 'F'\n",
    "                    F = [i] + F        # add vertex i to the beginning of the stack F\n",
    "                    Prev[i] = w\n",
    "        Status [w] = 'X'\n",
    "    \n",
    "    return Prev\n",
    "        "
   ]
  },
  {
   "cell_type": "code",
   "execution_count": null,
   "metadata": {
    "executionInfo": {
     "elapsed": 999,
     "status": "ok",
     "timestamp": 1603167749568,
     "user": {
      "displayName": "Eric Van-grinsven",
      "photoUrl": "",
      "userId": "14379538005791708188"
     },
     "user_tz": 420
    },
    "id": "Fo-tD2o-7caZ"
   },
   "outputs": [],
   "source": [
    "Example_graph =\\\n",
    "[[0, 0, 0, 0, 0, 0, 1, 0, 0, 0, 0, 1, 0, 0, 1, 0, 0, 0, 0, 0, 0, 0, 0, 1, 1],\n",
    " [0, 0, 0, 0, 0, 0, 0, 0, 0, 0, 0, 0, 0, 0, 0, 0, 0, 0, 0, 0, 0, 0, 0, 0, 0],\n",
    " [0, 0, 0, 1, 0, 0, 1, 0, 1, 0, 0, 1, 0, 0, 0, 1, 0, 0, 0, 0, 0, 1, 1, 1, 0],\n",
    " [0, 0, 1, 0, 0, 1, 0, 1, 0, 0, 1, 0, 1, 0, 1, 1, 0, 0, 0, 0, 0, 0, 0, 0, 1],\n",
    " [0, 0, 0, 0, 0, 0, 0, 1, 0, 0, 0, 0, 0, 0, 0, 0, 0, 0, 1, 0, 0, 0, 0, 0, 0],\n",
    " [0, 0, 0, 1, 0, 0, 0, 0, 0, 0, 0, 0, 0, 0, 0, 0, 0, 1, 1, 0, 0, 1, 1, 0, 0],\n",
    " [1, 0, 1, 0, 0, 0, 0, 0, 0, 0, 0, 1, 0, 0, 0, 1, 0, 0, 0, 0, 0, 0, 1, 0, 0],\n",
    " [0, 0, 0, 1, 1, 0, 0, 0, 0, 0, 0, 0, 0, 1, 0, 1, 0, 0, 0, 0, 0, 0, 0, 0, 0],\n",
    " [0, 0, 1, 0, 0, 0, 0, 0, 0, 0, 0, 0, 1, 0, 0, 0, 0, 0, 0, 0, 0, 0, 1, 0, 1],\n",
    " [0, 0, 0, 0, 0, 0, 0, 0, 0, 0, 1, 0, 0, 1, 0, 1, 0, 0, 0, 0, 0, 0, 0, 0, 0],\n",
    " [0, 0, 0, 1, 0, 0, 0, 0, 0, 1, 0, 0, 0, 0, 0, 0, 0, 0, 1, 0, 0, 0, 0, 0, 0],\n",
    " [1, 0, 1, 0, 0, 0, 1, 0, 0, 0, 0, 0, 0, 0, 0, 0, 0, 0, 1, 0, 0, 0, 1, 0, 0],\n",
    " [0, 0, 0, 1, 0, 0, 0, 0, 1, 0, 0, 0, 0, 0, 0, 0, 0, 0, 0, 0, 0, 1, 1, 0, 0],\n",
    " [0, 0, 0, 0, 0, 0, 0, 1, 0, 1, 0, 0, 0, 0, 0, 0, 0, 0, 0, 0, 0, 0, 0, 0, 0],\n",
    " [1, 0, 0, 1, 0, 0, 0, 0, 0, 0, 0, 0, 0, 0, 0, 1, 1, 0, 0, 0, 0, 1, 0, 1, 1],\n",
    " [0, 0, 1, 1, 0, 0, 1, 1, 0, 1, 0, 0, 0, 0, 1, 0, 0, 0, 1, 0, 1, 1, 0, 0, 0],\n",
    " [0, 0, 0, 0, 0, 0, 0, 0, 0, 0, 0, 0, 0, 0, 1, 0, 0, 0, 0, 1, 0, 1, 0, 0, 1],\n",
    " [0, 0, 0, 0, 0, 1, 0, 0, 0, 0, 0, 0, 0, 0, 0, 0, 0, 0, 1, 0, 0, 0, 1, 0, 0],\n",
    " [0, 0, 0, 0, 1, 1, 0, 0, 0, 0, 1, 1, 0, 0, 0, 1, 0, 1, 0, 0, 0, 0, 0, 0, 0],\n",
    " [0, 0, 0, 0, 0, 0, 0, 0, 0, 0, 0, 0, 0, 0, 0, 0, 1, 0, 0, 0, 0, 0, 0, 0, 0],\n",
    " [0, 0, 0, 0, 0, 0, 0, 0, 0, 0, 0, 0, 0, 0, 0, 1, 0, 0, 0, 0, 0, 1, 0, 0, 0],\n",
    " [0, 0, 1, 0, 0, 1, 0, 0, 0, 0, 0, 0, 1, 0, 1, 1, 1, 0, 0, 0, 1, 0, 0, 0, 0],\n",
    " [0, 0, 1, 0, 0, 1, 1, 0, 1, 0, 0, 1, 1, 0, 0, 0, 0, 1, 0, 0, 0, 0, 0, 0, 1],\n",
    " [1, 0, 1, 0, 0, 0, 0, 0, 0, 0, 0, 0, 0, 0, 1, 0, 0, 0, 0, 0, 0, 0, 0, 0, 1],\n",
    " [1, 0, 0, 1, 0, 0, 0, 0, 1, 0, 0, 0, 0, 0, 1, 0, 1, 0, 0, 0, 0, 0, 1, 1, 0]]"
   ]
  },
  {
   "cell_type": "code",
   "execution_count": null,
   "metadata": {
    "colab": {
     "base_uri": "https://localhost:8080/",
     "height": 33
    },
    "executionInfo": {
     "elapsed": 991,
     "status": "ok",
     "timestamp": 1603167749569,
     "user": {
      "displayName": "Eric Van-grinsven",
      "photoUrl": "",
      "userId": "14379538005791708188"
     },
     "user_tz": 420
    },
    "id": "LIqsgaNd7cac",
    "outputId": "d144c372-8632-4aed-af5d-e1fe8561d460"
   },
   "outputs": [],
   "source": []
  },
  {
   "cell_type": "markdown",
   "metadata": {
    "id": "StOZ6v_R7cae"
   },
   "source": [
    "## $\\color{red}{\\text{Exercise 3}}$\n",
    "\n",
    "What is the path from 0 to 7 that the algorithm finds in the example graph above? (Write your answer as a list of numbers starting from 0 and ending at 7 without spaces: (0,x,x,x,...,x,x,7))\n",
    "\n"
   ]
  },
  {
   "cell_type": "markdown",
   "metadata": {
    "id": "u75_1NSP7caf"
   },
   "source": [
    "### Max bandwidth\n",
    "Consider the following *undirected* graph with 20 vertices and positive edge weights ranging from 1 to 29:\n",
    "\n",
    "```[[0, 0, 0, 0, 7, 0, 0, 0, 19, 0, 0, 0, 0, 0, 0, 0, 0, 18, 0, 0],\n",
    " [0, 0, 9, 0, 19, 25, 0, 0, 0, 0, 0, 0, 0, 0, 0, 0, 0, 0, 16, 9],\n",
    " [0, 9, 0, 0, 0, 0, 0, 0, 23, 0, 0, 0, 0, 0, 0, 25, 0, 0, 0, 0],\n",
    " [0, 0, 0, 0, 0, 8, 0, 0, 0, 0, 0, 0, 0, 26, 0, 0, 0, 0, 0, 0],\n",
    " [7, 19, 0, 0, 0, 0, 0, 0, 0, 0, 0, 0, 0, 0, 0, 0, 0, 0, 0, 0],\n",
    " [0, 25, 0, 8, 0, 0, 16, 0, 0, 0, 0, 0, 0, 0, 0, 1, 0, 29, 0, 0],\n",
    " [0, 0, 0, 0, 0, 16, 0, 0, 0, 0, 0, 0, 0, 4, 0, 0, 0, 0, 14, 0],\n",
    " [0, 0, 0, 0, 0, 0, 0, 0, 0, 27, 0, 0, 0, 0, 0, 0, 0, 7, 1, 16],\n",
    " [19, 0, 23, 0, 0, 0, 0, 0, 0, 1, 0, 8, 0, 20, 0, 0, 3, 29, 13, 0],\n",
    " [0, 0, 0, 0, 0, 0, 0, 27, 1, 0, 0, 0, 0, 0, 0, 0, 0, 0, 0, 0],\n",
    " [0, 0, 0, 0, 0, 0, 0, 0, 0, 0, 0, 16, 0, 0, 0, 0, 0, 0, 0, 0],\n",
    " [0, 0, 0, 0, 0, 0, 0, 0, 8, 0, 16, 0, 0, 0, 0, 0, 10, 0, 0, 22],\n",
    " [0, 0, 0, 0, 0, 0, 0, 0, 0, 0, 0, 0, 0, 0, 0, 8, 16, 0, 0, 0],\n",
    " [0, 0, 0, 26, 0, 0, 4, 0, 20, 0, 0, 0, 0, 0, 19, 0, 0, 0, 0, 0],\n",
    " [0, 0, 0, 0, 0, 0, 0, 0, 0, 0, 0, 0, 0, 19, 0, 23, 0, 12, 0, 0],\n",
    " [0, 0, 25, 0, 0, 1, 0, 0, 0, 0, 0, 0, 8, 0, 23, 0, 0, 0, 30, 0],\n",
    " [0, 0, 0, 0, 0, 0, 0, 0, 3, 0, 0, 10, 16, 0, 0, 0, 0, 11, 0, 0],\n",
    " [18, 0, 0, 0, 0, 29, 0, 7, 29, 0, 0, 0, 0, 0, 12, 0, 11, 0, 25, 2],\n",
    " [0, 16, 0, 0, 0, 0, 14, 1, 13, 0, 0, 0, 0, 0, 0, 30, 0, 25, 0, 0],\n",
    " [0, 9, 0, 0, 0, 0, 0, 16, 0, 0, 0, 22, 0, 0, 0, 0, 0, 2, 0, 0]]```\n",
    " \n",
    " Each non-zero edge (u,v) can be considered the bandwidth between a direct connection between u and v.\n",
    " \n",
    " The goal here is to find the maximum bandwidth path from vertex 0 to vertex 7.\n",
    " \n",
    " ## $\\color{red}{\\text{Exercise 4}}$\n",
    " Find the value of the Maximum bandwidth of the above graph from vertex 0 to vertex 7\n",
    " \n",
    "\n",
    " \n",
    " \n",
    " ## $\\color{red}{\\text{Exercise 5}}$\n",
    " Find the path of the maximum bandwidth of the above graph from vertex 0 to vertex 7. Enter your answer as a sequence without spaces: (0,x,x,x,...,x,x,7)\n",
    " \n"
   ]
  },
  {
   "cell_type": "markdown",
   "metadata": {
    "id": "nABUuirp7caf"
   },
   "source": [
    "### Copying the graph:\n",
    "If you recall the algorithm for maximum bandwidth from class, you may need to copy the graph several times, each time changing some of the edges. You can assign a variable to the graph like this:"
   ]
  },
  {
   "cell_type": "code",
   "execution_count": null,
   "metadata": {
    "executionInfo": {
     "elapsed": 988,
     "status": "ok",
     "timestamp": 1603167749570,
     "user": {
      "displayName": "Eric Van-grinsven",
      "photoUrl": "",
      "userId": "14379538005791708188"
     },
     "user_tz": 420
    },
    "id": "HlyhpmiS7cag"
   },
   "outputs": [],
   "source": [
    "MBG = [[0, 0, 0, 0, 7, 0, 0, 0, 19, 0, 0, 0, 0, 0, 0, 0, 0, 18, 0, 0],\n",
    " [0, 0, 9, 0, 19, 25, 0, 0, 0, 0, 0, 0, 0, 0, 0, 0, 0, 0, 16, 9],\n",
    " [0, 9, 0, 0, 0, 0, 0, 0, 23, 0, 0, 0, 0, 0, 0, 25, 0, 0, 0, 0],\n",
    " [0, 0, 0, 0, 0, 8, 0, 0, 0, 0, 0, 0, 0, 26, 0, 0, 0, 0, 0, 0],\n",
    " [7, 19, 0, 0, 0, 0, 0, 0, 0, 0, 0, 0, 0, 0, 0, 0, 0, 0, 0, 0],\n",
    " [0, 25, 0, 8, 0, 0, 16, 0, 0, 0, 0, 0, 0, 0, 0, 1, 0, 29, 0, 0],\n",
    " [0, 0, 0, 0, 0, 16, 0, 0, 0, 0, 0, 0, 0, 4, 0, 0, 0, 0, 14, 0],\n",
    " [0, 0, 0, 0, 0, 0, 0, 0, 0, 27, 0, 0, 0, 0, 0, 0, 0, 7, 1, 16],\n",
    " [19, 0, 23, 0, 0, 0, 0, 0, 0, 1, 0, 8, 0, 20, 0, 0, 3, 29, 13, 0],\n",
    " [0, 0, 0, 0, 0, 0, 0, 27, 1, 0, 0, 0, 0, 0, 0, 0, 0, 0, 0, 0],\n",
    " [0, 0, 0, 0, 0, 0, 0, 0, 0, 0, 0, 16, 0, 0, 0, 0, 0, 0, 0, 0],\n",
    " [0, 0, 0, 0, 0, 0, 0, 0, 8, 0, 16, 0, 0, 0, 0, 0, 10, 0, 0, 22],\n",
    " [0, 0, 0, 0, 0, 0, 0, 0, 0, 0, 0, 0, 0, 0, 0, 8, 16, 0, 0, 0],\n",
    " [0, 0, 0, 26, 0, 0, 4, 0, 20, 0, 0, 0, 0, 0, 19, 0, 0, 0, 0, 0],\n",
    " [0, 0, 0, 0, 0, 0, 0, 0, 0, 0, 0, 0, 0, 19, 0, 23, 0, 12, 0, 0],\n",
    " [0, 0, 25, 0, 0, 1, 0, 0, 0, 0, 0, 0, 8, 0, 23, 0, 0, 0, 30, 0],\n",
    " [0, 0, 0, 0, 0, 0, 0, 0, 3, 0, 0, 10, 16, 0, 0, 0, 0, 11, 0, 0],\n",
    " [18, 0, 0, 0, 0, 29, 0, 7, 29, 0, 0, 0, 0, 0, 12, 0, 11, 0, 25, 2],\n",
    " [0, 16, 0, 0, 0, 0, 14, 1, 13, 0, 0, 0, 0, 0, 0, 30, 0, 25, 0, 0],\n",
    " [0, 9, 0, 0, 0, 0, 0, 16, 0, 0, 0, 22, 0, 0, 0, 0, 0, 2, 0, 0]]"
   ]
  },
  {
   "cell_type": "markdown",
   "metadata": {
    "id": "H4-qNmvK7caj"
   },
   "source": [
    "But if you want to make a copy of the graph that you can manipulate without affecting the original graph, then you must do this:"
   ]
  },
  {
   "cell_type": "code",
   "execution_count": null,
   "metadata": {
    "executionInfo": {
     "elapsed": 986,
     "status": "ok",
     "timestamp": 1603167749571,
     "user": {
      "displayName": "Eric Van-grinsven",
      "photoUrl": "",
      "userId": "14379538005791708188"
     },
     "user_tz": 420
    },
    "id": "E8PND7Au7cak"
   },
   "outputs": [],
   "source": [
    "MBG_copy = [[MBG[i][j] for i in range(20)] for j in range(20)]"
   ]
  },
  {
   "cell_type": "code",
   "execution_count": null,
   "metadata": {
    "colab": {
     "base_uri": "https://localhost:8080/",
     "height": 342
    },
    "executionInfo": {
     "elapsed": 979,
     "status": "ok",
     "timestamp": 1603167749572,
     "user": {
      "displayName": "Eric Van-grinsven",
      "photoUrl": "",
      "userId": "14379538005791708188"
     },
     "user_tz": 420
    },
    "id": "wVMfPPMS7cam",
    "outputId": "7afeb469-fa89-4b05-e8af-75b90db58aed"
   },
   "outputs": [],
   "source": [
    "MBG_copy"
   ]
  },
  {
   "cell_type": "code",
   "execution_count": null,
   "metadata": {
    "executionInfo": {
     "elapsed": 974,
     "status": "ok",
     "timestamp": 1603167749572,
     "user": {
      "displayName": "Eric Van-grinsven",
      "photoUrl": "",
      "userId": "14379538005791708188"
     },
     "user_tz": 420
    },
    "id": "PtaMDqTr7cap"
   },
   "outputs": [],
   "source": []
  },
  {
   "cell_type": "code",
   "execution_count": null,
   "metadata": {
    "executionInfo": {
     "elapsed": 972,
     "status": "ok",
     "timestamp": 1603167749573,
     "user": {
      "displayName": "Eric Van-grinsven",
      "photoUrl": "",
      "userId": "14379538005791708188"
     },
     "user_tz": 420
    },
    "id": "xtYbdlUo7car"
   },
   "outputs": [],
   "source": []
  },
  {
   "cell_type": "code",
   "execution_count": null,
   "metadata": {
    "executionInfo": {
     "elapsed": 970,
     "status": "ok",
     "timestamp": 1603167749573,
     "user": {
      "displayName": "Eric Van-grinsven",
      "photoUrl": "",
      "userId": "14379538005791708188"
     },
     "user_tz": 420
    },
    "id": "W6GBq7d-7cat"
   },
   "outputs": [],
   "source": []
  },
  {
   "cell_type": "code",
   "execution_count": null,
   "metadata": {
    "executionInfo": {
     "elapsed": 966,
     "status": "ok",
     "timestamp": 1603167749574,
     "user": {
      "displayName": "Eric Van-grinsven",
      "photoUrl": "",
      "userId": "14379538005791708188"
     },
     "user_tz": 420
    },
    "id": "CCyUYzsO7caw",
    "scrolled": true
   },
   "outputs": [],
   "source": []
  },
  {
   "cell_type": "code",
   "execution_count": null,
   "metadata": {
    "executionInfo": {
     "elapsed": 964,
     "status": "ok",
     "timestamp": 1603167749574,
     "user": {
      "displayName": "Eric Van-grinsven",
      "photoUrl": "",
      "userId": "14379538005791708188"
     },
     "user_tz": 420
    },
    "id": "Fyan4MDz7cay"
   },
   "outputs": [],
   "source": []
  },
  {
   "cell_type": "code",
   "execution_count": null,
   "metadata": {
    "executionInfo": {
     "elapsed": 958,
     "status": "ok",
     "timestamp": 1603167749575,
     "user": {
      "displayName": "Eric Van-grinsven",
      "photoUrl": "",
      "userId": "14379538005791708188"
     },
     "user_tz": 420
    },
    "id": "onGtAz9f7ca1"
   },
   "outputs": [],
   "source": []
  }
 ],
 "metadata": {
  "colab": {
   "name": "DFS.ipynb",
   "provenance": []
  },
  "kernelspec": {
   "display_name": "Python 3",
   "language": "python",
   "name": "python3"
  },
  "language_info": {
   "codemirror_mode": {
    "name": "ipython",
    "version": 3
   },
   "file_extension": ".py",
   "mimetype": "text/x-python",
   "name": "python",
   "nbconvert_exporter": "python",
   "pygments_lexer": "ipython3",
   "version": "3.7.4"
  }
 },
 "nbformat": 4,
 "nbformat_minor": 1
}
